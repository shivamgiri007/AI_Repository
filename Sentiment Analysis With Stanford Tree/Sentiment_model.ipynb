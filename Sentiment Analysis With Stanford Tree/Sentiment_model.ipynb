{
 "cells": [
  {
   "cell_type": "code",
   "execution_count": 2,
   "metadata": {},
   "outputs": [
    {
     "name": "stdout",
     "output_type": "stream",
     "text": [
      "Train Data:\n",
      "                                                text  label\n",
      "0  The Rock is destined to be the 21st Century 's...      3\n",
      "1  The gorgeously elaborate continuation of `` Th...      4\n",
      "2  Singer\\/composer Bryan Adams contributes a sle...      3\n",
      "3  You 'd think by now America would have had eno...      2\n",
      "4               Yet the act is still charming here .      3\n",
      "\n",
      "Dev Data:\n",
      "                                                text  label\n",
      "0  It 's a lovely film with lovely performances b...      3\n",
      "1  No one goes unindicted here , which is probabl...      2\n",
      "2  And if you 're not nearly moved to tears by a ...      3\n",
      "3                   A warm , funny , engaging film .      4\n",
      "4  Uses sharp humor and insight into human nature...      4\n",
      "\n",
      "Test Data:\n",
      "                                                text  label\n",
      "0                     Effective but too-tepid biopic      2\n",
      "1  If you sometimes like to go to the movies to h...      3\n",
      "2  Emerges as something rare , an issue movie tha...      4\n",
      "3  The film provides some great insight into the ...      2\n",
      "4  Offers that rare combination of entertainment ...      4\n"
     ]
    }
   ],
   "source": [
    "import pandas as pd\n",
    "import re\n",
    "\n",
    "# Function to parse the tree structure and extract the sentence and label\n",
    "def parse_tree(tree):\n",
    "    \"\"\"\n",
    "    Recursively parses the tree structure to extract the sentence and its sentiment label.\n",
    "    \"\"\"\n",
    "    # Extract the sentiment label (the first number in the tree)\n",
    "    label = int(re.search(r'\\((\\d+)', tree).group(1))\n",
    "    \n",
    "    # Extract the sentence text (all leaf nodes in the tree)\n",
    "    sentence = ' '.join(re.findall(r'\\(\\d+ ([^()]+)\\)', tree))\n",
    "    \n",
    "    return sentence, label\n",
    "\n",
    "# Function to load and preprocess the SST dataset\n",
    "def load_sst_dataset(file_path):\n",
    "    \"\"\"\n",
    "    Loads the SST dataset from the given file path and returns a DataFrame.\n",
    "    \"\"\"\n",
    "    data = []\n",
    "    with open(file_path, 'r', encoding='utf-8') as file:\n",
    "        for line in file:\n",
    "            sentence, label = parse_tree(line.strip())\n",
    "            data.append({'text': sentence, 'label': label})\n",
    "    \n",
    "    return pd.DataFrame(data)\n",
    "\n",
    "# Load train, dev, and test datasets\n",
    "train_data = load_sst_dataset('train.txt')\n",
    "dev_data = load_sst_dataset('dev.txt')\n",
    "test_data = load_sst_dataset('test.txt')\n",
    "\n",
    "# Display the first few rows of each dataset\n",
    "print(\"Train Data:\")\n",
    "print(train_data.head())\n",
    "print(\"\\nDev Data:\")\n",
    "print(dev_data.head())\n",
    "print(\"\\nTest Data:\")\n",
    "print(test_data.head())"
   ]
  },
  {
   "cell_type": "code",
   "execution_count": 3,
   "metadata": {},
   "outputs": [
    {
     "name": "stdout",
     "output_type": "stream",
     "text": [
      "DataFrames saved to sst_data directory.\n"
     ]
    }
   ],
   "source": [
    "import os\n",
    "\n",
    "# Define the directory to save the data\n",
    "save_dir = 'sst_data'\n",
    "os.makedirs(save_dir, exist_ok=True)  # Create the directory if it doesn't exist\n",
    "\n",
    "# Save the DataFrames to CSV files\n",
    "train_data.to_csv(os.path.join(save_dir, 'train.csv'), index=False)\n",
    "dev_data.to_csv(os.path.join(save_dir, 'dev.csv'), index=False)\n",
    "test_data.to_csv(os.path.join(save_dir, 'test.csv'), index=False)\n",
    "\n",
    "print(f\"DataFrames saved to {save_dir} directory.\")"
   ]
  },
  {
   "cell_type": "code",
   "execution_count": 4,
   "metadata": {},
   "outputs": [
    {
     "name": "stdout",
     "output_type": "stream",
     "text": [
      "Train Data:\n",
      "                                                text  label\n",
      "0  The Rock is destined to be the 21st Century 's...      3\n",
      "1  The gorgeously elaborate continuation of `` Th...      4\n",
      "2  Singer\\/composer Bryan Adams contributes a sle...      3\n",
      "3  You 'd think by now America would have had eno...      2\n",
      "4               Yet the act is still charming here .      3\n",
      "\n",
      "Dev Data:\n",
      "                                                text  label\n",
      "0  It 's a lovely film with lovely performances b...      3\n",
      "1  No one goes unindicted here , which is probabl...      2\n",
      "2  And if you 're not nearly moved to tears by a ...      3\n",
      "3                   A warm , funny , engaging film .      4\n",
      "4  Uses sharp humor and insight into human nature...      4\n",
      "\n",
      "Test Data:\n",
      "                                                text  label\n",
      "0                     Effective but too-tepid biopic      2\n",
      "1  If you sometimes like to go to the movies to h...      3\n",
      "2  Emerges as something rare , an issue movie tha...      4\n",
      "3  The film provides some great insight into the ...      2\n",
      "4  Offers that rare combination of entertainment ...      4\n"
     ]
    }
   ],
   "source": [
    "import pandas as pd\n",
    "\n",
    "# Load the saved DataFrames\n",
    "train_data = pd.read_csv('sst_data/train.csv')\n",
    "dev_data = pd.read_csv('sst_data/dev.csv')\n",
    "test_data = pd.read_csv('sst_data/test.csv')\n",
    "\n",
    "# Display the first few rows of each DataFrame\n",
    "print(\"Train Data:\")\n",
    "print(train_data.head())\n",
    "print(\"\\nDev Data:\")\n",
    "print(dev_data.head())\n",
    "print(\"\\nTest Data:\")\n",
    "print(test_data.head())"
   ]
  },
  {
   "cell_type": "code",
   "execution_count": 8,
   "metadata": {},
   "outputs": [
    {
     "data": {
      "image/png": "[encoded data removed]",
      "text/plain": [
       "<Figure size 640x480 with 1 Axes>"
      ]
     },
     "metadata": {},
     "output_type": "display_data"
    }
   ],
   "source": [
    "import matplotlib.pyplot as plt\n",
    "import seaborn as sns\n",
    "\n",
    "# Plot the distribution of labels\n",
    "sns.countplot(x='label', data=train_data)\n",
    "plt.title('Distribution of Sentiment Labels')\n",
    "plt.show()"
   ]
  },
  {
   "cell_type": "code",
   "execution_count": 9,
   "metadata": {},
   "outputs": [
    {
     "name": "stdout",
     "output_type": "stream",
     "text": [
      "text              0\n",
      "label             0\n",
      "input_ids         0\n",
      "attention_mask    0\n",
      "dtype: int64\n"
     ]
    }
   ],
   "source": [
    "print(train_data.isnull().sum())"
   ]
  },
  {
   "cell_type": "code",
   "execution_count": 10,
   "metadata": {},
   "outputs": [
    {
     "data": {
      "image/png": "[encoded data removed]",
      "text/plain": [
       "<Figure size 640x480 with 1 Axes>"
      ]
     },
     "metadata": {},
     "output_type": "display_data"
    }
   ],
   "source": [
    "train_data['text_length'] = train_data['text'].apply(len)\n",
    "sns.histplot(train_data['text_length'], bins=50)\n",
    "plt.title('Distribution of Text Length')\n",
    "plt.show()"
   ]
  },
  {
   "cell_type": "code",
   "execution_count": 5,
   "metadata": {},
   "outputs": [
    {
     "name": "stderr",
     "output_type": "stream",
     "text": [
      "c:\\Users\\Shree\\Documents\\AI_Repository\\Sentiment Analysis With Stanford Tree\\sentiment_env\\Lib\\site-packages\\tqdm\\auto.py:21: TqdmWarning: IProgress not found. Please update jupyter and ipywidgets. See https://ipywidgets.readthedocs.io/en/stable/user_install.html\n",
      "  from .autonotebook import tqdm as notebook_tqdm\n"
     ]
    },
    {
     "name": "stdout",
     "output_type": "stream",
     "text": [
      "Preprocessed Train Data:\n",
      "                                                text  \\\n",
      "0  The Rock is destined to be the 21st Century 's...   \n",
      "1  The gorgeously elaborate continuation of `` Th...   \n",
      "2  Singer\\/composer Bryan Adams contributes a sle...   \n",
      "3  You 'd think by now America would have had eno...   \n",
      "4               Yet the act is still charming here .   \n",
      "\n",
      "                                           input_ids  \\\n",
      "0  [101, 1996, 2600, 2003, 16036, 2000, 2022, 199...   \n",
      "1  [101, 1996, 9882, 2135, 9603, 13633, 1997, 103...   \n",
      "2  [101, 3220, 1032, 1013, 4543, 8527, 5922, 1660...   \n",
      "3  [101, 2017, 1005, 1040, 2228, 2011, 2085, 2637...   \n",
      "4  [101, 2664, 1996, 2552, 2003, 2145, 11951, 218...   \n",
      "\n",
      "                                      attention_mask  \n",
      "0  [1, 1, 1, 1, 1, 1, 1, 1, 1, 1, 1, 1, 1, 1, 1, ...  \n",
      "1  [1, 1, 1, 1, 1, 1, 1, 1, 1, 1, 1, 1, 1, 1, 1, ...  \n",
      "2  [1, 1, 1, 1, 1, 1, 1, 1, 1, 1, 1, 1, 1, 1, 1, ...  \n",
      "3  [1, 1, 1, 1, 1, 1, 1, 1, 1, 1, 1, 1, 1, 1, 1, ...  \n",
      "4  [1, 1, 1, 1, 1, 1, 1, 1, 1, 1, 0, 0, 0, 0, 0, ...  \n"
     ]
    }
   ],
   "source": [
    "from transformers import BertTokenizer\n",
    "import torch\n",
    "\n",
    "# Load the BERT tokenizer\n",
    "tokenizer = BertTokenizer.from_pretrained('bert-base-uncased')\n",
    "\n",
    "# Function to preprocess the text data\n",
    "def preprocess_text(df, tokenizer, max_length=128):\n",
    "    \"\"\"\n",
    "    Preprocesses the text data using the tokenizer.\n",
    "    \"\"\"\n",
    "    # Tokenize the text and convert to token IDs\n",
    "    encoded_data = tokenizer.batch_encode_plus(\n",
    "        df['text'].tolist(),  # List of sentences\n",
    "        padding=True,         # Pad sequences to the same length\n",
    "        truncation=True,      # Truncate sequences longer than max_length\n",
    "        max_length=max_length,  # Maximum sequence length\n",
    "        return_tensors='pt'   # Return PyTorch tensors\n",
    "    )\n",
    "    \n",
    "    # Add the token IDs and attention masks to the DataFrame\n",
    "    df['input_ids'] = encoded_data['input_ids'].tolist()\n",
    "    df['attention_mask'] = encoded_data['attention_mask'].tolist()\n",
    "    \n",
    "    return df\n",
    "\n",
    "# Preprocess the train, dev, and test datasets\n",
    "train_data = preprocess_text(train_data, tokenizer)\n",
    "dev_data = preprocess_text(dev_data, tokenizer)\n",
    "test_data = preprocess_text(test_data, tokenizer)\n",
    "\n",
    "# Display the first few rows of the preprocessed train data\n",
    "print(\"Preprocessed Train Data:\")\n",
    "print(train_data[['text', 'input_ids', 'attention_mask']].head())"
   ]
  },
  {
   "cell_type": "code",
   "execution_count": 6,
   "metadata": {},
   "outputs": [
    {
     "name": "stdout",
     "output_type": "stream",
     "text": [
      "Preprocessed DataFrames saved.\n"
     ]
    }
   ],
   "source": [
    "# Save the preprocessed DataFrames\n",
    "train_data.to_pickle('sst_data/train_preprocessed.pkl')\n",
    "dev_data.to_pickle('sst_data/dev_preprocessed.pkl')\n",
    "test_data.to_pickle('sst_data/test_preprocessed.pkl')\n",
    "\n",
    "print(\"Preprocessed DataFrames saved.\")"
   ]
  },
  {
   "cell_type": "code",
   "execution_count": 7,
   "metadata": {},
   "outputs": [
    {
     "name": "stdout",
     "output_type": "stream",
     "text": [
      "DataLoaders created.\n"
     ]
    }
   ],
   "source": [
    "from torch.utils.data import TensorDataset, DataLoader\n",
    "\n",
    "# Convert the preprocessed data into PyTorch tensors\n",
    "train_inputs = torch.tensor(train_data['input_ids'].tolist())\n",
    "train_masks = torch.tensor(train_data['attention_mask'].tolist())\n",
    "train_labels = torch.tensor(train_data['label'].tolist())\n",
    "\n",
    "# Create TensorDatasets\n",
    "train_dataset = TensorDataset(train_inputs, train_masks, train_labels)\n",
    "\n",
    "# Create DataLoaders\n",
    "batch_size = 16\n",
    "train_loader = DataLoader(train_dataset, batch_size=batch_size, shuffle=True)\n",
    "\n",
    "print(\"DataLoaders created.\")"
   ]
  },
  {
   "cell_type": "code",
   "execution_count": 11,
   "metadata": {},
   "outputs": [
    {
     "name": "stderr",
     "output_type": "stream",
     "text": [
      "c:\\Users\\Shree\\Documents\\AI_Repository\\Sentiment Analysis With Stanford Tree\\sentiment_env\\Lib\\site-packages\\huggingface_hub\\file_download.py:140: UserWarning: `huggingface_hub` cache-system uses symlinks by default to efficiently store duplicated files but your machine does not support them in C:\\Users\\Shree\\.cache\\huggingface\\hub\\models--bert-base-uncased. Caching files will still work but in a degraded version that might require more space on your disk. This warning can be disabled by setting the `HF_HUB_DISABLE_SYMLINKS_WARNING` environment variable. For more details, see https://huggingface.co/docs/huggingface_hub/how-to-cache#limitations.\n",
      "To support symlinks on Windows, you either need to activate Developer Mode or to run Python as an administrator. In order to activate developer mode, see this article: https://docs.microsoft.com/en-us/windows/apps/get-started/enable-your-device-for-development\n",
      "  warnings.warn(message)\n",
      "Some weights of BertForSequenceClassification were not initialized from the model checkpoint at bert-base-uncased and are newly initialized: ['classifier.bias', 'classifier.weight']\n",
      "You should probably TRAIN this model on a down-stream task to be able to use it for predictions and inference.\n",
      "c:\\Users\\Shree\\Documents\\AI_Repository\\Sentiment Analysis With Stanford Tree\\sentiment_env\\Lib\\site-packages\\transformers\\optimization.py:591: FutureWarning: This implementation of AdamW is deprecated and will be removed in a future version. Use the PyTorch implementation torch.optim.AdamW instead, or set `no_deprecation_warning=True` to disable this warning\n",
      "  warnings.warn(\n"
     ]
    },
    {
     "name": "stdout",
     "output_type": "stream",
     "text": [
      "Epoch 1/3\n"
     ]
    },
    {
     "ename": "KeyboardInterrupt",
     "evalue": "",
     "output_type": "error",
     "traceback": [
      "\u001b[1;31m---------------------------------------------------------------------------\u001b[0m",
      "\u001b[1;31mKeyboardInterrupt\u001b[0m                         Traceback (most recent call last)",
      "Cell \u001b[1;32mIn[11], line 40\u001b[0m\n\u001b[0;32m     37\u001b[0m total_loss \u001b[38;5;241m+\u001b[39m\u001b[38;5;241m=\u001b[39m loss\u001b[38;5;241m.\u001b[39mitem()\n\u001b[0;32m     39\u001b[0m \u001b[38;5;66;03m# Backward pass\u001b[39;00m\n\u001b[1;32m---> 40\u001b[0m \u001b[43mloss\u001b[49m\u001b[38;5;241;43m.\u001b[39;49m\u001b[43mbackward\u001b[49m\u001b[43m(\u001b[49m\u001b[43m)\u001b[49m\n\u001b[0;32m     41\u001b[0m optimizer\u001b[38;5;241m.\u001b[39mstep()\n\u001b[0;32m     42\u001b[0m optimizer\u001b[38;5;241m.\u001b[39mzero_grad()\n",
      "File \u001b[1;32mc:\\Users\\Shree\\Documents\\AI_Repository\\Sentiment Analysis With Stanford Tree\\sentiment_env\\Lib\\site-packages\\torch\\_tensor.py:626\u001b[0m, in \u001b[0;36mTensor.backward\u001b[1;34m(self, gradient, retain_graph, create_graph, inputs)\u001b[0m\n\u001b[0;32m    616\u001b[0m \u001b[38;5;28;01mif\u001b[39;00m has_torch_function_unary(\u001b[38;5;28mself\u001b[39m):\n\u001b[0;32m    617\u001b[0m     \u001b[38;5;28;01mreturn\u001b[39;00m handle_torch_function(\n\u001b[0;32m    618\u001b[0m         Tensor\u001b[38;5;241m.\u001b[39mbackward,\n\u001b[0;32m    619\u001b[0m         (\u001b[38;5;28mself\u001b[39m,),\n\u001b[1;32m   (...)\u001b[0m\n\u001b[0;32m    624\u001b[0m         inputs\u001b[38;5;241m=\u001b[39minputs,\n\u001b[0;32m    625\u001b[0m     )\n\u001b[1;32m--> 626\u001b[0m \u001b[43mtorch\u001b[49m\u001b[38;5;241;43m.\u001b[39;49m\u001b[43mautograd\u001b[49m\u001b[38;5;241;43m.\u001b[39;49m\u001b[43mbackward\u001b[49m\u001b[43m(\u001b[49m\n\u001b[0;32m    627\u001b[0m \u001b[43m    \u001b[49m\u001b[38;5;28;43mself\u001b[39;49m\u001b[43m,\u001b[49m\u001b[43m \u001b[49m\u001b[43mgradient\u001b[49m\u001b[43m,\u001b[49m\u001b[43m \u001b[49m\u001b[43mretain_graph\u001b[49m\u001b[43m,\u001b[49m\u001b[43m \u001b[49m\u001b[43mcreate_graph\u001b[49m\u001b[43m,\u001b[49m\u001b[43m \u001b[49m\u001b[43minputs\u001b[49m\u001b[38;5;241;43m=\u001b[39;49m\u001b[43minputs\u001b[49m\n\u001b[0;32m    628\u001b[0m \u001b[43m\u001b[49m\u001b[43m)\u001b[49m\n",
      "File \u001b[1;32mc:\\Users\\Shree\\Documents\\AI_Repository\\Sentiment Analysis With Stanford Tree\\sentiment_env\\Lib\\site-packages\\torch\\autograd\\__init__.py:347\u001b[0m, in \u001b[0;36mbackward\u001b[1;34m(tensors, grad_tensors, retain_graph, create_graph, grad_variables, inputs)\u001b[0m\n\u001b[0;32m    342\u001b[0m     retain_graph \u001b[38;5;241m=\u001b[39m create_graph\n\u001b[0;32m    344\u001b[0m \u001b[38;5;66;03m# The reason we repeat the same comment below is that\u001b[39;00m\n\u001b[0;32m    345\u001b[0m \u001b[38;5;66;03m# some Python versions print out the first line of a multi-line function\u001b[39;00m\n\u001b[0;32m    346\u001b[0m \u001b[38;5;66;03m# calls in the traceback and some print out the last line\u001b[39;00m\n\u001b[1;32m--> 347\u001b[0m \u001b[43m_engine_run_backward\u001b[49m\u001b[43m(\u001b[49m\n\u001b[0;32m    348\u001b[0m \u001b[43m    \u001b[49m\u001b[43mtensors\u001b[49m\u001b[43m,\u001b[49m\n\u001b[0;32m    349\u001b[0m \u001b[43m    \u001b[49m\u001b[43mgrad_tensors_\u001b[49m\u001b[43m,\u001b[49m\n\u001b[0;32m    350\u001b[0m \u001b[43m    \u001b[49m\u001b[43mretain_graph\u001b[49m\u001b[43m,\u001b[49m\n\u001b[0;32m    351\u001b[0m \u001b[43m    \u001b[49m\u001b[43mcreate_graph\u001b[49m\u001b[43m,\u001b[49m\n\u001b[0;32m    352\u001b[0m \u001b[43m    \u001b[49m\u001b[43minputs\u001b[49m\u001b[43m,\u001b[49m\n\u001b[0;32m    353\u001b[0m \u001b[43m    \u001b[49m\u001b[43mallow_unreachable\u001b[49m\u001b[38;5;241;43m=\u001b[39;49m\u001b[38;5;28;43;01mTrue\u001b[39;49;00m\u001b[43m,\u001b[49m\n\u001b[0;32m    354\u001b[0m \u001b[43m    \u001b[49m\u001b[43maccumulate_grad\u001b[49m\u001b[38;5;241;43m=\u001b[39;49m\u001b[38;5;28;43;01mTrue\u001b[39;49;00m\u001b[43m,\u001b[49m\n\u001b[0;32m    355\u001b[0m \u001b[43m\u001b[49m\u001b[43m)\u001b[49m\n",
      "File \u001b[1;32mc:\\Users\\Shree\\Documents\\AI_Repository\\Sentiment Analysis With Stanford Tree\\sentiment_env\\Lib\\site-packages\\torch\\autograd\\graph.py:823\u001b[0m, in \u001b[0;36m_engine_run_backward\u001b[1;34m(t_outputs, *args, **kwargs)\u001b[0m\n\u001b[0;32m    821\u001b[0m     unregister_hooks \u001b[38;5;241m=\u001b[39m _register_logging_hooks_on_whole_graph(t_outputs)\n\u001b[0;32m    822\u001b[0m \u001b[38;5;28;01mtry\u001b[39;00m:\n\u001b[1;32m--> 823\u001b[0m     \u001b[38;5;28;01mreturn\u001b[39;00m \u001b[43mVariable\u001b[49m\u001b[38;5;241;43m.\u001b[39;49m\u001b[43m_execution_engine\u001b[49m\u001b[38;5;241;43m.\u001b[39;49m\u001b[43mrun_backward\u001b[49m\u001b[43m(\u001b[49m\u001b[43m  \u001b[49m\u001b[38;5;66;43;03m# Calls into the C++ engine to run the backward pass\u001b[39;49;00m\n\u001b[0;32m    824\u001b[0m \u001b[43m        \u001b[49m\u001b[43mt_outputs\u001b[49m\u001b[43m,\u001b[49m\u001b[43m \u001b[49m\u001b[38;5;241;43m*\u001b[39;49m\u001b[43margs\u001b[49m\u001b[43m,\u001b[49m\u001b[43m \u001b[49m\u001b[38;5;241;43m*\u001b[39;49m\u001b[38;5;241;43m*\u001b[39;49m\u001b[43mkwargs\u001b[49m\n\u001b[0;32m    825\u001b[0m \u001b[43m    \u001b[49m\u001b[43m)\u001b[49m  \u001b[38;5;66;03m# Calls into the C++ engine to run the backward pass\u001b[39;00m\n\u001b[0;32m    826\u001b[0m \u001b[38;5;28;01mfinally\u001b[39;00m:\n\u001b[0;32m    827\u001b[0m     \u001b[38;5;28;01mif\u001b[39;00m attach_logging_hooks:\n",
      "\u001b[1;31mKeyboardInterrupt\u001b[0m: "
     ]
    }
   ],
   "source": [
    "from transformers import BertForSequenceClassification, AdamW\n",
    "from torch.nn import CrossEntropyLoss\n",
    "from sklearn.metrics import accuracy_score, classification_report\n",
    "import numpy as np\n",
    "\n",
    "# Load the pre-trained BERT model for sequence classification\n",
    "model = BertForSequenceClassification.from_pretrained(\n",
    "    'bert-base-uncased',  # Pre-trained BERT model\n",
    "    num_labels=5          # Number of sentiment labels (0-4)\n",
    ")\n",
    "\n",
    "# Move the model to the GPU if available\n",
    "device = torch.device('cuda' if torch.cuda.is_available() else 'cpu')\n",
    "model.to(device)\n",
    "\n",
    "# Set up the optimizer and loss function\n",
    "optimizer = AdamW(model.parameters(), lr=2e-5)\n",
    "loss_fn = CrossEntropyLoss()\n",
    "\n",
    "# Training loop\n",
    "epochs = 3  # Number of training epochs\n",
    "for epoch in range(epochs):\n",
    "    print(f\"Epoch {epoch + 1}/{epochs}\")\n",
    "    model.train()\n",
    "    total_loss = 0\n",
    "\n",
    "    for batch in train_loader:\n",
    "        # Move batch to GPU if available\n",
    "        input_ids, attention_mask, labels = batch\n",
    "        input_ids = input_ids.to(device)\n",
    "        attention_mask = attention_mask.to(device)\n",
    "        labels = labels.to(device)\n",
    "\n",
    "        # Forward pass\n",
    "        outputs = model(input_ids, attention_mask=attention_mask, labels=labels)\n",
    "        loss = outputs.loss\n",
    "        total_loss += loss.item()\n",
    "\n",
    "        # Backward pass\n",
    "        loss.backward()\n",
    "        optimizer.step()\n",
    "        optimizer.zero_grad()\n",
    "\n",
    "    # Calculate average loss for the epoch\n",
    "    avg_loss = total_loss / len(train_loader)\n",
    "    print(f\"Training Loss: {avg_loss}\")\n",
    "\n",
    "# Save the trained model\n",
    "model.save_pretrained('sst_sentiment_model')\n",
    "tokenizer.save_pretrained('sst_sentiment_model')\n",
    "\n",
    "print(\"Model saved.\")"
   ]
  },
  {
   "cell_type": "code",
   "execution_count": null,
   "metadata": {},
   "outputs": [],
   "source": []
  }
 ],
 "metadata": {
  "kernelspec": {
   "display_name": "sentiment_env",
   "language": "python",
   "name": "python3"
  },
  "language_info": {
   "codemirror_mode": {
    "name": "ipython",
    "version": 3
   },
   "file_extension": ".py",
   "mimetype": "text/x-python",
   "name": "python",
   "nbconvert_exporter": "python",
   "pygments_lexer": "ipython3",
   "version": "3.11.4"
  }
 },
 "nbformat": 4,
 "nbformat_minor": 2
}
